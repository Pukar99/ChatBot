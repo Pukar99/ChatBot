{
 "cells": [
  {
   "cell_type": "code",
   "execution_count": 82,
   "id": "14826e76",
   "metadata": {},
   "outputs": [],
   "source": [
    "import numpy as np\n",
    "import nltk    #it help for working with human language data\n",
    "import string #this module provides a collection of string constants, such as ASCII\n",
    "import random # this module used to generate random numbers and making choices randomly\n",
    "\n"
   ]
  },
  {
   "cell_type": "code",
   "execution_count": 83,
   "id": "3678b1a9",
   "metadata": {},
   "outputs": [],
   "source": [
    "#importing and reading the corpus\n"
   ]
  },
  {
   "cell_type": "code",
   "execution_count": 84,
   "id": "a77b844b",
   "metadata": {},
   "outputs": [
    {
     "name": "stderr",
     "output_type": "stream",
     "text": [
      "[nltk_data] Downloading package punkt to\n",
      "[nltk_data]     C:\\Users\\hp\\AppData\\Roaming\\nltk_data...\n",
      "[nltk_data]   Package punkt is already up-to-date!\n",
      "[nltk_data] Downloading package wordnet to\n",
      "[nltk_data]     C:\\Users\\hp\\AppData\\Roaming\\nltk_data...\n",
      "[nltk_data]   Package wordnet is already up-to-date!\n"
     ]
    }
   ],
   "source": [
    "f = open('chatbot.txt', 'r', errors = 'ignore')\n",
    "raw_doc = f.read()\n",
    "raw_doc = raw_doc.lower() #convert into lowercase\n",
    "nltk.download('punkt') #using the punkt tokenizer\n",
    "nltk.download('wordnet') # using the wordNet dictionary\n",
    "sent_tokens = nltk.sent_tokenize(raw_doc) #converts doc to list of sentences\n",
    "word_tokens = nltk.word_tokenize(raw_doc) #converts doc to list of words"
   ]
  },
  {
   "cell_type": "code",
   "execution_count": 85,
   "id": "2fa6bed6",
   "metadata": {},
   "outputs": [
    {
     "data": {
      "text/plain": [
       "['the stock market is a subject that may sound complicated for many people, but in reality if studied well and correctly, it can be simple for those who are attracted to this sector.',\n",
       " 'we invite you to stay and read our collection of trading books in pdf format, which aims to make this subject available to our entire community.']"
      ]
     },
     "execution_count": 85,
     "metadata": {},
     "output_type": "execute_result"
    }
   ],
   "source": [
    "sent_tokens[:2]"
   ]
  },
  {
   "cell_type": "code",
   "execution_count": 86,
   "id": "21da12a0",
   "metadata": {},
   "outputs": [
    {
     "data": {
      "text/plain": [
       "['the', 'stock']"
      ]
     },
     "execution_count": 86,
     "metadata": {},
     "output_type": "execute_result"
    }
   ],
   "source": [
    "word_tokens[:2]"
   ]
  },
  {
   "cell_type": "code",
   "execution_count": 87,
   "id": "2fcc2765",
   "metadata": {},
   "outputs": [],
   "source": [
    "#Preprocessing text"
   ]
  },
  {
   "cell_type": "code",
   "execution_count": 88,
   "id": "80988b5b",
   "metadata": {},
   "outputs": [],
   "source": [
    "# Creating a lemmatizer\n",
    "lemmer = nltk.stem.WordNetLemmatizer()\n",
    "\n",
    "# Defining a function to lemmatize tokens\n",
    "def LemTokens(tokens):\n",
    "    return [lemmer.lemmatize(token) for token in tokens]\n",
    "\n",
    "# Creating a dictionary to remove punctuation\n",
    "remove_punct_dict = dict((ord(punct), None) for punct in string.punctuation)\n",
    "\n",
    "# Defining a function to lemmatize and normalize text\n",
    "def LemNormalize(text):\n",
    "    return LemTokens(nltk.word_tokenize(text.lower().translate(remove_punct_dict)))"
   ]
  },
  {
   "cell_type": "code",
   "execution_count": 89,
   "id": "02304577",
   "metadata": {},
   "outputs": [],
   "source": [
    "#defing the greeting function\n"
   ]
  },
  {
   "cell_type": "code",
   "execution_count": 90,
   "id": "ce87f02e",
   "metadata": {},
   "outputs": [],
   "source": [
    "GREET_INPUTS =(\"hi\",\"hello\",\"namestha\",\"suvadin\",\"nameskar\",\"k cha hajur\",\"what's up\",\"hey\")\n",
    "GREET_RESPONSES =[ \"hi\",\"hey\",\"hajur namestha\",\"I am glad to talk with you\"]\n",
    "def greet(sentence):\n",
    "    for word in sentence.split():\n",
    "        if word.lower() in GREET_INPUTS:\n",
    "            return random.choice(GREET_RESPONSES)"
   ]
  },
  {
   "cell_type": "code",
   "execution_count": 91,
   "id": "55008fb2",
   "metadata": {},
   "outputs": [],
   "source": [
    "#RESPONSE GENERATION"
   ]
  },
  {
   "cell_type": "code",
   "execution_count": 92,
   "id": "94d554c7",
   "metadata": {},
   "outputs": [],
   "source": [
    "from sklearn.feature_extraction.text import TfidfVectorizer\n",
    "from sklearn.metrics.pairwise import cosine_similarity"
   ]
  },
  {
   "cell_type": "code",
   "execution_count": 93,
   "id": "6843e3f6",
   "metadata": {},
   "outputs": [],
   "source": [
    "def response(user_response):\n",
    "    robol_response =''\n",
    "    TfidfVec = TfidfVectorizer(tokenizer=LemNormalize, stop_words='english')\n",
    "    tfidf = TfidfVec.fit_transform(sent_tokens)\n",
    "    vals = cosine_similarity(tfidf[-1], tfidf)\n",
    "    idx= vals.argsort()[0][-2]\n",
    "    flat = vals.flatten()\n",
    "    flat.sort()\n",
    "    req_tfidf = flat[-2]\n",
    "\n",
    "    if req_tfidf == 0:\n",
    "        robol_response = robol_response + \"I am not able to understand you\"\n",
    "        return robol_response\n",
    "    else:\n",
    "        robol_response = robol_response + sent_tokens[idx]\n",
    "        return robol_response\n"
   ]
  },
  {
   "cell_type": "code",
   "execution_count": 94,
   "id": "ee891c6f",
   "metadata": {},
   "outputs": [],
   "source": [
    "#defining conversation start/end protocols"
   ]
  },
  {
   "cell_type": "code",
   "execution_count": 95,
   "id": "7f70707f",
   "metadata": {},
   "outputs": [
    {
     "name": "stdout",
     "output_type": "stream",
     "text": [
      "TradingBOT: I am your TradingBot. You can start! Also, if you want to exit, say Bye.\n",
      "Hello\n",
      "BOT: hey\n",
      "how are you\n",
      "BOT:I am not able to understand you\n",
      "what's up\n",
      "BOT:I am not able to understand you\n",
      "whats up\n",
      "BOT:I am not able to understand you\n",
      "trading\n",
      "BOT:other types: social trading and trend trading.\n",
      "stock trading\n",
      "BOT:other types: social trading and trend trading.\n",
      "stock market\n",
      "BOT:stock speculators and investors usually need a stock broker such as a bank or a brokerage firm to access the stock market.\n",
      "swing trading\n",
      "BOT:swing trading: this is a medium-term investment.\n",
      "scalping\n",
      "BOT:scalping: like day trading, it is a short term investment, however the operations are carried out in a few minutes during several moments of the day.\n",
      "psychology in trading\n",
      "BOT:[22]\n",
      "\n",
      "psychology\n",
      "trading psychology is the study of human mindset and how it functions in terms of identity, beliefs and behaviors while actively trading regulated and non-regulated assets.\n",
      "ok bye\n",
      "BOT:I am not able to understand you\n",
      "bye\n",
      "BOT: Goodbye\n"
     ]
    }
   ],
   "source": [
    "flag = True\n",
    "print(\"TradingBOT: I am your TradingBot. You can start! Also, if you want to exit, say Bye.\")\n",
    "\n",
    "while flag == True:\n",
    "    user_response = input()\n",
    "    user_response = user_response.lower()\n",
    "\n",
    "    if user_response != 'bye':\n",
    "        if user_response == 'thanks' or user_response == 'thank you':\n",
    "            flag = False\n",
    "            print(\"BOT: You are Welcome.\")\n",
    "        else:\n",
    "            if greet(user_response) != None:\n",
    "                print(\"BOT: \" + greet(user_response))\n",
    "            else:\n",
    "                sent_tokens.append(user_response)\n",
    "                word_tokens = word_tokens + nltk.word_tokenize(user_response)\n",
    "                final_words = list(set(word_tokens))\n",
    "                print(\"BOT:\", end=\"\")\n",
    "                print(response(user_response))\n",
    "                sent_tokens.remove(user_response)\n",
    "    else:\n",
    "        flag = False\n",
    "        print(\"BOT: Goodbye\")\n"
   ]
  },
  {
   "cell_type": "code",
   "execution_count": null,
   "id": "18e2ffa7",
   "metadata": {},
   "outputs": [],
   "source": []
  },
  {
   "cell_type": "code",
   "execution_count": null,
   "id": "1ec86300",
   "metadata": {},
   "outputs": [],
   "source": []
  }
 ],
 "metadata": {
  "kernelspec": {
   "display_name": "Python 3 (ipykernel)",
   "language": "python",
   "name": "python3"
  },
  "language_info": {
   "codemirror_mode": {
    "name": "ipython",
    "version": 3
   },
   "file_extension": ".py",
   "mimetype": "text/x-python",
   "name": "python",
   "nbconvert_exporter": "python",
   "pygments_lexer": "ipython3",
   "version": "3.9.7"
  }
 },
 "nbformat": 4,
 "nbformat_minor": 5
}
